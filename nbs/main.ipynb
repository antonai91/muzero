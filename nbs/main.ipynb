{
 "cells": [
  {
   "cell_type": "code",
   "execution_count": null,
   "metadata": {},
   "outputs": [],
   "source": [
    "import sys\n",
    "sys.path.append(\"../src/\")"
   ]
  },
  {
   "cell_type": "code",
   "execution_count": 2,
   "metadata": {},
   "outputs": [],
   "source": [
    "from plugin_write_and_run import *"
   ]
  },
  {
   "cell_type": "code",
   "execution_count": 3,
   "metadata": {},
   "outputs": [],
   "source": [
    "from utilities import *\n",
    "from config import *\n",
    "from game import *\n",
    "from shared_storage import *\n",
    "from networks import *\n",
    "from mcts import *\n",
    "from self_play import *\n",
    "from training import *"
   ]
  },
  {
   "cell_type": "code",
   "execution_count": 4,
   "metadata": {},
   "outputs": [],
   "source": [
    "def muzero(config: MuZeroConfig):\n",
    "    \"\"\"\n",
    "    MuZero training is split into two independent parts: Network training and\n",
    "    self-play data generation.\n",
    "    These two parts only communicate by transferring the latest networks checkpoint\n",
    "    from the training to the self-play, and the finished games from the self-play\n",
    "    to the training.\n",
    "    In contrast to the original MuZero algorithm this version doesn't works with\n",
    "    multiple threads, therefore the training and self-play is done alternately.\n",
    "    \"\"\"\n",
    "    storage = SharedStorage(config.new_network(), config.uniform_network(), config.new_optimizer())\n",
    "    replay_buffer = ReplayBuffer(config)\n",
    "\n",
    "    for loop in range(config.nb_training_loop):\n",
    "        print(\"Training loop\", loop)\n",
    "        score_train = run_selfplay(config, storage, replay_buffer, config.nb_episodes)\n",
    "        train_network(config, storage, replay_buffer, config.nb_epochs)\n",
    "\n",
    "        print(\"Train score:\", score_train)\n",
    "        print(\"Eval score:\", run_eval(config, storage, 50))\n",
    "        print(f\"MuZero played {config.nb_episodes * (loop + 1)} \"\n",
    "              f\"episodes and trained for {config.nb_epochs * (loop + 1)} epochs.\\n\")\n",
    "\n",
    "    return storage.latest_network()"
   ]
  },
  {
   "cell_type": "code",
   "execution_count": 5,
   "metadata": {},
   "outputs": [],
   "source": [
    "config = make_atari_config()"
   ]
  },
  {
   "cell_type": "code",
   "execution_count": null,
   "metadata": {},
   "outputs": [
    {
     "name": "stdout",
     "output_type": "stream",
     "text": [
      "Training loop 0\n",
      "Train score: 21.75\n"
     ]
    }
   ],
   "source": [
    "last_nn = muzero(config)"
   ]
  },
  {
   "cell_type": "code",
   "execution_count": null,
   "metadata": {},
   "outputs": [],
   "source": []
  }
 ],
 "metadata": {
  "kernelspec": {
   "display_name": "Python 3",
   "language": "python",
   "name": "python3"
  },
  "language_info": {
   "codemirror_mode": {
    "name": "ipython",
    "version": 3
   },
   "file_extension": ".py",
   "mimetype": "text/x-python",
   "name": "python",
   "nbconvert_exporter": "python",
   "pygments_lexer": "ipython3",
   "version": "3.8.5"
  }
 },
 "nbformat": 4,
 "nbformat_minor": 5
}
