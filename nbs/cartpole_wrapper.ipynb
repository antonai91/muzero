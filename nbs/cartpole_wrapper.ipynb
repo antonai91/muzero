{
 "cells": [
  {
   "cell_type": "code",
   "execution_count": 4,
   "id": "unlikely-bishop",
   "metadata": {},
   "outputs": [],
   "source": [
    "import sys\n",
    "sys.path.append(\"../src/\")"
   ]
  },
  {
   "cell_type": "code",
   "execution_count": 5,
   "id": "dominant-spare",
   "metadata": {},
   "outputs": [],
   "source": [
    "from plugin_write_and_run import *"
   ]
  },
  {
   "cell_type": "code",
   "execution_count": 6,
   "id": "automated-croatia",
   "metadata": {},
   "outputs": [],
   "source": [
    "%%write_and_run ../src/cartpole_wrapper.py\n",
    "import sys\n",
    "sys.path.append(\"../src/\")\n",
    "import gym\n",
    "\n",
    "from game import *\n",
    "from gym_wrapper import *"
   ]
  },
  {
   "cell_type": "code",
   "execution_count": 7,
   "id": "solar-details",
   "metadata": {},
   "outputs": [],
   "source": [
    "%%write_and_run -a ../src/cartpole_wrapper.py\n",
    "\n",
    "class CartPoleWrapper(Game):\n",
    "    \"\"\"The Gym CartPole environment\"\"\"\n",
    "\n",
    "    def __init__(self, discount: float):\n",
    "        super().__init__(discount)\n",
    "        self.env = gym.make('CartPole-v1')\n",
    "        self.env = ScalingObservationWrapper(self.env, low=[-2.4, -2.0, -0.42, -3.5], high=[2.4, 2.0, 0.42, 3.5])\n",
    "        self.actions = list(map(lambda i: Action(i), range(self.env.action_space.n)))\n",
    "        self.observations = [self.env.reset()]\n",
    "        self.done = False\n",
    "\n",
    "    @property\n",
    "    def action_space_size(self) -> int:\n",
    "        \"\"\"Return the size of the action space.\"\"\"\n",
    "        return len(self.actions)\n",
    "\n",
    "    def step(self, action) -> int:\n",
    "        \"\"\"Execute one step of the game conditioned by the given action.\"\"\"\n",
    "\n",
    "        observation, reward, done, _ = self.env.step(action.index)\n",
    "        self.observations += [observation]\n",
    "        self.done = done\n",
    "        return reward\n",
    "\n",
    "    def terminal(self) -> bool:\n",
    "        \"\"\"Is the game is finished?\"\"\"\n",
    "        return self.done\n",
    "\n",
    "    def legal_actions(self) -> List[Action]:\n",
    "        \"\"\"Return the legal actions available at this instant.\"\"\"\n",
    "        return self.actions\n",
    "\n",
    "    def make_image(self, state_index: int):\n",
    "        \"\"\"Compute the state of the game.\"\"\"\n",
    "        return self.observations[state_index]"
   ]
  }
 ],
 "metadata": {
  "kernelspec": {
   "display_name": "Python 3",
   "language": "python",
   "name": "python3"
  },
  "language_info": {
   "codemirror_mode": {
    "name": "ipython",
    "version": 3
   },
   "file_extension": ".py",
   "mimetype": "text/x-python",
   "name": "python",
   "nbconvert_exporter": "python",
   "pygments_lexer": "ipython3",
   "version": "3.7.9"
  }
 },
 "nbformat": 4,
 "nbformat_minor": 5
}
