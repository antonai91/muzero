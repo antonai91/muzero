{
 "cells": [
  {
   "cell_type": "code",
   "execution_count": 1,
   "id": "portuguese-formula",
   "metadata": {},
   "outputs": [],
   "source": [
    "import sys\n",
    "sys.path.append(\"../src/\")"
   ]
  },
  {
   "cell_type": "code",
   "execution_count": 2,
   "id": "elder-split",
   "metadata": {},
   "outputs": [],
   "source": [
    "from plugin_write_and_run import *"
   ]
  },
  {
   "cell_type": "code",
   "execution_count": 3,
   "id": "increased-trace",
   "metadata": {},
   "outputs": [],
   "source": [
    "%%write_and_run ../src/replay_buffer.py\n",
    "import sys\n",
    "sys.path.append(\"../src/\")\n",
    "import random\n",
    "from itertools import zip_longest\n",
    "from typing import List\n",
    "from config import *"
   ]
  },
  {
   "cell_type": "code",
   "execution_count": 4,
   "id": "simple-laptop",
   "metadata": {},
   "outputs": [],
   "source": [
    "%%write_and_run -a ../src/replay_buffer.py\n",
    "\n",
    "class ReplayBuffer(object):\n",
    "    def __init__(self, config: MuZeroConfig):\n",
    "        self.window_size = config.window_size\n",
    "        self.batch_size = config.batch_size\n",
    "        self.buffer = []\n",
    "\n",
    "    def save_game(self, game):\n",
    "        if len(self.buffer) > self.window_size:\n",
    "            self.buffer.pop(0)\n",
    "        self.buffer.append(game)\n",
    "\n",
    "    def sample_batch(self, num_unroll_steps: int, td_steps: int):\n",
    "        # Generate some sample of data to train on\n",
    "        games = self.sample_games()\n",
    "        game_pos = [(g, self.sample_position(g)) for g in games]\n",
    "        game_data = [(g.make_image(i), g.history[i:i + num_unroll_steps],\n",
    "                      g.make_target(i, num_unroll_steps, td_steps, g.to_play()))\n",
    "                     for (g, i) in game_pos]\n",
    "\n",
    "        # Pre-process the batch\n",
    "        image_batch, actions_time_batch, targets_batch = zip(*game_data)\n",
    "        targets_init_batch, *targets_time_batch = zip(*targets_batch)\n",
    "        actions_time_batch = list(zip_longest(*actions_time_batch, fillvalue=None))\n",
    "\n",
    "        # Building batch of valid actions and a dynamic mask for hidden representations during BPTT\n",
    "        mask_time_batch = []\n",
    "        dynamic_mask_time_batch = []\n",
    "        last_mask = [True] * len(image_batch)\n",
    "        for i, actions_batch in enumerate(actions_time_batch):\n",
    "            mask = list(map(lambda a: bool(a), actions_batch))\n",
    "            dynamic_mask = [now for last, now in zip(last_mask, mask) if last]\n",
    "            mask_time_batch.append(mask)\n",
    "            dynamic_mask_time_batch.append(dynamic_mask)\n",
    "            last_mask = mask\n",
    "            actions_time_batch[i] = [action.index for action in actions_batch if action]\n",
    "\n",
    "        batch = image_batch, targets_init_batch, targets_time_batch, actions_time_batch, mask_time_batch, dynamic_mask_time_batch\n",
    "        return batch\n",
    "\n",
    "    def sample_games(self) -> List[Game]:\n",
    "        # Sample game from buffer either uniformly or according to some priority.\n",
    "        return random.choices(self.buffer, k=self.batch_size)\n",
    "\n",
    "    def sample_position(self, game: Game) -> int:\n",
    "        # Sample position from game either uniformly or according to some priority.\n",
    "        return random.randint(0, len(game.history))"
   ]
  }
 ],
 "metadata": {
  "kernelspec": {
   "display_name": "Python 3",
   "language": "python",
   "name": "python3"
  },
  "language_info": {
   "codemirror_mode": {
    "name": "ipython",
    "version": 3
   },
   "file_extension": ".py",
   "mimetype": "text/x-python",
   "name": "python",
   "nbconvert_exporter": "python",
   "pygments_lexer": "ipython3",
   "version": "3.7.9"
  }
 },
 "nbformat": 4,
 "nbformat_minor": 5
}
