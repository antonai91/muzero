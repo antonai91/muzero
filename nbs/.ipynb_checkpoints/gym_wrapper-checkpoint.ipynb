{
 "cells": [
  {
   "cell_type": "code",
   "execution_count": 1,
   "id": "aboriginal-senator",
   "metadata": {},
   "outputs": [],
   "source": [
    "import sys\n",
    "sys.path.append(\"../src/\")"
   ]
  },
  {
   "cell_type": "code",
   "execution_count": 2,
   "id": "configured-listing",
   "metadata": {},
   "outputs": [],
   "source": [
    "from plugin_write_and_run import *"
   ]
  },
  {
   "cell_type": "code",
   "execution_count": 3,
   "id": "manual-hypothetical",
   "metadata": {},
   "outputs": [],
   "source": [
    "%%write_and_run ../src/gym_wrapper.py\n",
    "import sys\n",
    "sys.path.append(\"../src/\")\n",
    "import gym\n",
    "import numpy as np"
   ]
  },
  {
   "cell_type": "code",
   "execution_count": 4,
   "id": "effective-grass",
   "metadata": {},
   "outputs": [],
   "source": [
    "%%write_and_run -a ../src/gym_wrapper.py\n",
    "\n",
    "class ScalingObservationWrapper(gym.ObservationWrapper):\n",
    "    \"\"\"\n",
    "    Wrapper that apply a min-max scaling of observations.\n",
    "    \"\"\"\n",
    "\n",
    "    def __init__(self, env, low=None, high=None):\n",
    "        super().__init__(env)\n",
    "\n",
    "        low = np.array(self.observation_space.low if low is None else low)\n",
    "        high = np.array(self.observation_space.high if high is None else high)\n",
    "\n",
    "        self.mean = (high + low) / 2\n",
    "        self.max = high - self.mean\n",
    "\n",
    "    def observation(self, observation):\n",
    "        return (observation - self.mean) / self.max"
   ]
  }
 ],
 "metadata": {
  "kernelspec": {
   "display_name": "Python 3",
   "language": "python",
   "name": "python3"
  },
  "language_info": {
   "codemirror_mode": {
    "name": "ipython",
    "version": 3
   },
   "file_extension": ".py",
   "mimetype": "text/x-python",
   "name": "python",
   "nbconvert_exporter": "python",
   "pygments_lexer": "ipython3",
   "version": "3.7.9"
  }
 },
 "nbformat": 4,
 "nbformat_minor": 5
}
