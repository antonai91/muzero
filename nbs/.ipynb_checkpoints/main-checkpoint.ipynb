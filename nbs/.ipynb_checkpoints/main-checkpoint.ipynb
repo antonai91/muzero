{
 "cells": [
  {
   "cell_type": "code",
   "execution_count": null,
   "metadata": {},
   "outputs": [],
   "source": [
    "import sys\n",
    "sys.path.append(\"../src/\")"
   ]
  },
  {
   "cell_type": "code",
   "execution_count": 2,
   "metadata": {},
   "outputs": [],
   "source": [
    "from plugin_write_and_run import *"
   ]
  },
  {
   "cell_type": "code",
   "execution_count": 3,
   "metadata": {},
   "outputs": [],
   "source": [
    "from utilities import *\n",
    "from config import *\n",
    "from game import *\n",
    "from shared_storage import *\n",
    "from networks import *\n",
    "from mcts import *\n",
    "from self_play import *\n",
    "from training import *"
   ]
  },
  {
   "cell_type": "code",
   "execution_count": 4,
   "metadata": {},
   "outputs": [],
   "source": [
    "def muzero(config: MuZeroConfig):\n",
    "    \"\"\"\n",
    "    MuZero training is split into two independent parts: Network training and\n",
    "    self-play data generation.\n",
    "    These two parts only communicate by transferring the latest networks checkpoint\n",
    "    from the training to the self-play, and the finished games from the self-play\n",
    "    to the training.\n",
    "    In contrast to the original MuZero algorithm this version doesn't works with\n",
    "    multiple threads, therefore the training and self-play is done alternately.\n",
    "    \"\"\"\n",
    "    storage = SharedStorage(config.new_network(), config.uniform_network(), config.new_optimizer())\n",
    "    replay_buffer = ReplayBuffer(config)\n",
    "\n",
    "    for loop in range(config.nb_training_loop):\n",
    "        print(\"Training loop\", loop)\n",
    "        score_train = run_selfplay(config, storage, replay_buffer, config.nb_episodes)\n",
    "        train_network(config, storage, replay_buffer, config.nb_epochs)\n",
    "\n",
    "        print(\"Train score:\", score_train)\n",
    "        print(\"Eval score:\", run_eval(config, storage, 50))\n",
    "        print(f\"MuZero played {config.nb_episodes * (loop + 1)} \"\n",
    "              f\"episodes and trained for {config.nb_epochs * (loop + 1)} epochs.\\n\")\n",
    "\n",
    "    return storage.latest_network()"
   ]
  },
  {
   "cell_type": "code",
   "execution_count": 5,
   "metadata": {},
   "outputs": [],
   "source": [
    "config = make_atari_config()"
   ]
  },
  {
   "cell_type": "code",
   "execution_count": null,
   "metadata": {},
   "outputs": [
    {
     "name": "stdout",
     "output_type": "stream",
     "text": [
      "Automatic pdb calling has been turned ON\n",
      "Training loop 0\n",
      "Train score: 18.9\n",
      "Eval score: 9.42\n",
      "MuZero played 20 episodes and trained for 20 epochs.\n",
      "\n",
      "Training loop 1\n",
      "Train score: 16.4\n",
      "Eval score: 9.2\n",
      "MuZero played 40 episodes and trained for 40 epochs.\n",
      "\n",
      "Training loop 2\n",
      "Train score: 22.75\n",
      "Eval score: 9.22\n",
      "MuZero played 60 episodes and trained for 60 epochs.\n",
      "\n",
      "Training loop 3\n",
      "Train score: 22.75\n",
      "Eval score: 9.62\n",
      "MuZero played 80 episodes and trained for 80 epochs.\n",
      "\n",
      "Training loop 4\n",
      "Train score: 20.15\n",
      "Eval score: 9.1\n",
      "MuZero played 100 episodes and trained for 100 epochs.\n",
      "\n",
      "Training loop 5\n",
      "Train score: 23.9\n",
      "Eval score: 9.28\n",
      "MuZero played 120 episodes and trained for 120 epochs.\n",
      "\n",
      "Training loop 6\n",
      "Train score: 25.2\n",
      "Eval score: 9.32\n",
      "MuZero played 140 episodes and trained for 140 epochs.\n",
      "\n",
      "Training loop 7\n",
      "Train score: 22.6\n",
      "Eval score: 9.32\n",
      "MuZero played 160 episodes and trained for 160 epochs.\n",
      "\n",
      "Training loop 8\n",
      "Train score: 22.5\n",
      "Eval score: 9.24\n",
      "MuZero played 180 episodes and trained for 180 epochs.\n",
      "\n",
      "Training loop 9\n",
      "Train score: 30.15\n",
      "Eval score: 9.14\n",
      "MuZero played 200 episodes and trained for 200 epochs.\n",
      "\n",
      "Training loop 10\n",
      "Train score: 19.55\n",
      "Eval score: 9.44\n",
      "MuZero played 220 episodes and trained for 220 epochs.\n",
      "\n",
      "Training loop 11\n",
      "Train score: 23.75\n",
      "Eval score: 9.26\n",
      "MuZero played 240 episodes and trained for 240 epochs.\n",
      "\n",
      "Training loop 12\n",
      "Train score: 19.4\n",
      "Eval score: 9.34\n",
      "MuZero played 260 episodes and trained for 260 epochs.\n",
      "\n",
      "Training loop 13\n",
      "Train score: 19.85\n",
      "Eval score: 9.6\n",
      "MuZero played 280 episodes and trained for 280 epochs.\n",
      "\n",
      "Training loop 14\n",
      "Train score: 17.7\n",
      "Eval score: 9.38\n",
      "MuZero played 300 episodes and trained for 300 epochs.\n",
      "\n",
      "Training loop 15\n",
      "Train score: 18.45\n",
      "Eval score: 9.4\n",
      "MuZero played 320 episodes and trained for 320 epochs.\n",
      "\n",
      "Training loop 16\n",
      "Train score: 17.85\n",
      "Eval score: 12.4\n",
      "MuZero played 340 episodes and trained for 340 epochs.\n",
      "\n",
      "Training loop 17\n",
      "Train score: 17.0\n",
      "Eval score: 9.3\n",
      "MuZero played 360 episodes and trained for 360 epochs.\n",
      "\n",
      "Training loop 18\n",
      "Train score: 14.4\n",
      "Eval score: 9.28\n",
      "MuZero played 380 episodes and trained for 380 epochs.\n",
      "\n",
      "Training loop 19\n",
      "Train score: 12.0\n"
     ]
    }
   ],
   "source": [
    "last_nn = muzero(config)"
   ]
  },
  {
   "cell_type": "code",
   "execution_count": null,
   "metadata": {},
   "outputs": [],
   "source": []
  }
 ],
 "metadata": {
  "kernelspec": {
   "display_name": "Python 3",
   "language": "python",
   "name": "python3"
  },
  "language_info": {
   "codemirror_mode": {
    "name": "ipython",
    "version": 3
   },
   "file_extension": ".py",
   "mimetype": "text/x-python",
   "name": "python",
   "nbconvert_exporter": "python",
   "pygments_lexer": "ipython3",
   "version": "3.8.5"
  }
 },
 "nbformat": 4,
 "nbformat_minor": 5
}
