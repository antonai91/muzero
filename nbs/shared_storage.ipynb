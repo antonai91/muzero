{
 "cells": [
  {
   "cell_type": "code",
   "execution_count": 1,
   "id": "optimum-invention",
   "metadata": {},
   "outputs": [],
   "source": [
    "import sys\n",
    "sys.path.append(\"../src/\")"
   ]
  },
  {
   "cell_type": "code",
   "execution_count": 2,
   "id": "speaking-authority",
   "metadata": {},
   "outputs": [],
   "source": [
    "from plugin_write_and_run import *"
   ]
  },
  {
   "cell_type": "code",
   "execution_count": 3,
   "id": "motivated-extent",
   "metadata": {},
   "outputs": [],
   "source": [
    "%%write_and_run ../src/shared_storage.py\n",
    "import sys\n",
    "sys.path.append(\"../src/\")\n",
    "\n",
    "import tensorflow as tf\n",
    "\n",
    "from utilities import *\n",
    "from config import *\n",
    "from game import *\n",
    "from replay_buffer import *\n",
    "from networks import *"
   ]
  },
  {
   "cell_type": "code",
   "execution_count": 4,
   "id": "environmental-preserve",
   "metadata": {},
   "outputs": [],
   "source": [
    "%%write_and_run -a ../src/shared_storage.py\n",
    "\n",
    "class SharedStorage(object):\n",
    "    \"\"\"Save the different versions of the network.\"\"\"\n",
    "\n",
    "    def __init__(self, network: SuperNetwork, uniform_network: UniformNetwork, optimizer: tf.keras.optimizers):\n",
    "        self._networks = {}\n",
    "        self.current_network = network\n",
    "        self.uniform_network = uniform_network\n",
    "        self.optimizer = optimizer\n",
    "\n",
    "    def latest_network(self):\n",
    "        if self._networks:\n",
    "            return self._networks[max(self._networks.keys())]\n",
    "        else:\n",
    "            # policy -> uniform, value -> 0, reward -> 0\n",
    "            return self.uniform_network\n",
    "\n",
    "    def save_network(self, step: int, network: SuperNetwork):\n",
    "        self._networks[step] = network"
   ]
  }
 ],
 "metadata": {
  "kernelspec": {
   "display_name": "Python 3",
   "language": "python",
   "name": "python3"
  },
  "language_info": {
   "codemirror_mode": {
    "name": "ipython",
    "version": 3
   },
   "file_extension": ".py",
   "mimetype": "text/x-python",
   "name": "python",
   "nbconvert_exporter": "python",
   "pygments_lexer": "ipython3",
   "version": "3.7.9"
  }
 },
 "nbformat": 4,
 "nbformat_minor": 5
}
