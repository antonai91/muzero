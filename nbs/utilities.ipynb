{
 "cells": [
  {
   "cell_type": "code",
   "execution_count": 1,
   "id": "sunset-murder",
   "metadata": {},
   "outputs": [],
   "source": [
    "import sys\n",
    "sys.path.append(\"../src/\")"
   ]
  },
  {
   "cell_type": "code",
   "execution_count": 2,
   "id": "spectacular-stack",
   "metadata": {},
   "outputs": [],
   "source": [
    "from plugin_write_and_run import *"
   ]
  },
  {
   "cell_type": "code",
   "execution_count": 3,
   "id": "aboriginal-gardening",
   "metadata": {},
   "outputs": [],
   "source": [
    "%%write_and_run ../src/utilities.py\n",
    "import sys\n",
    "sys.path.append(\"../src/\")\n",
    "from typing import Optional\n",
    "import numpy as np\n",
    "import collections\n",
    "\n",
    "MAXIMUM_FLOAT_VALUE = float('inf')\n",
    "\n",
    "KnownBounds = collections.namedtuple('KnownBounds', ['min', 'max'])"
   ]
  },
  {
   "cell_type": "code",
   "execution_count": 4,
   "id": "cordless-conditions",
   "metadata": {},
   "outputs": [],
   "source": [
    "%%write_and_run -a ../src/utilities.py\n",
    "\n",
    "class MinMaxStats(object):\n",
    "    \"\"\"A class that holds the min-max values of the tree.\"\"\"\n",
    "\n",
    "    def __init__(self, known_bounds):\n",
    "        self.maximum = known_bounds.max if known_bounds else -MAXIMUM_FLOAT_VALUE\n",
    "        self.minimum = known_bounds.min if known_bounds else MAXIMUM_FLOAT_VALUE\n",
    "\n",
    "    def update(self, value: float):\n",
    "        if value is None:\n",
    "            raise ValueError\n",
    "\n",
    "        self.maximum = max(self.maximum, value)\n",
    "        self.minimum = min(self.minimum, value)\n",
    "\n",
    "    def normalize(self, value: float) -> float:\n",
    "        # If the value is unknow, by default we set it to the minimum possible value\n",
    "        if value is None:\n",
    "            return 0.0\n",
    "\n",
    "        if self.maximum > self.minimum:\n",
    "            # We normalize only when we have set the maximum and minimum values.\n",
    "            return (value - self.minimum) / (self.maximum - self.minimum)\n",
    "        if self.maximum == self.minimum:\n",
    "            return 0.0\n",
    "        return "
   ]
  },
  {
   "cell_type": "code",
   "execution_count": 5,
   "id": "excellent-reminder",
   "metadata": {},
   "outputs": [],
   "source": [
    "%%write_and_run -a ../src/utilities.py\n",
    "\n",
    "class Node(object):\n",
    "    \"\"\"A class that represent nodes inside the MCTS tree\"\"\"\n",
    "\n",
    "    def __init__(self, prior: float):\n",
    "        self.visit_count = 0\n",
    "        self.to_play = -1\n",
    "        self.prior = prior\n",
    "        self.value_sum = 0\n",
    "        self.children = {}\n",
    "        self.hidden_state = None\n",
    "        self.reward = 0\n",
    "\n",
    "    def expanded(self) -> bool:\n",
    "        return len(self.children) > 0\n",
    "\n",
    "    def value(self) -> Optional[float]:\n",
    "        if self.visit_count == 0:\n",
    "            return None\n",
    "        return self.value_sum / self.visit_count"
   ]
  },
  {
   "cell_type": "code",
   "execution_count": 6,
   "id": "received-trouble",
   "metadata": {},
   "outputs": [],
   "source": [
    "%%write_and_run -a ../src/utilities.py\n",
    "\n",
    "def softmax_sample(visit_counts, actions, t):\n",
    "    counts_exp = np.exp(visit_counts) * (1 / t)\n",
    "    probs = counts_exp / np.sum(counts_exp, axis=0)\n",
    "    action_idx = np.random.choice(len(actions), p=probs)\n",
    "    return actions[action_idx]"
   ]
  }
 ],
 "metadata": {
  "kernelspec": {
   "display_name": "Python 3",
   "language": "python",
   "name": "python3"
  },
  "language_info": {
   "codemirror_mode": {
    "name": "ipython",
    "version": 3
   },
   "file_extension": ".py",
   "mimetype": "text/x-python",
   "name": "python",
   "nbconvert_exporter": "python",
   "pygments_lexer": "ipython3",
   "version": "3.7.9"
  }
 },
 "nbformat": 4,
 "nbformat_minor": 5
}
